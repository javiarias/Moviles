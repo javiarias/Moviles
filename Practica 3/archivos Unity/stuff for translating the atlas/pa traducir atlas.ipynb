{
 "cells": [
  {
   "cell_type": "raw",
   "metadata": {},
   "source": [
    "original:\n",
    "\n",
    "bg\n",
    "  rotate: false\n",
    "  xy: 2, 126\n",
    "  size: 1080, 1920\n",
    "  orig: 1080, 1920\n",
    "  offset: 0, 0\n",
    "  index: -1"
   ]
  },
  {
   "cell_type": "raw",
   "metadata": {},
   "source": [
    "unity:\n",
    "\n",
    "- serializedVersion: 2\n",
    "      name: logo_hd_0\n",
    "      rect:\n",
    "        serializedVersion: 2\n",
    "        x: 71\n",
    "        y: 240\n",
    "        width: 1338\n",
    "        height: 260\n",
    "      alignment: 0\n",
    "      pivot: {x: 0.5, y: 0.5}\n",
    "      border: {x: 0, y: 0, z: 0, w: 0}\n",
    "      outline: []\n",
    "      physicsShape: []\n",
    "      tessellationDetail: 0\n",
    "      bones: []\n",
    "      spriteID: 47e645dce2ba10a60800000000000000\n",
    "      internalID: 7638574660498779764\n",
    "      vertices: []\n",
    "      indices: \n",
    "      edges: []\n",
    "      weights: []"
   ]
  },
  {
   "cell_type": "code",
   "execution_count": 19,
   "metadata": {},
   "outputs": [
    {
     "name": "stdout",
     "output_type": "stream",
     "text": [
      "logo_hd.png\n",
      "end!\n"
     ]
    }
   ],
   "source": [
    "import os\n",
    "\n",
    "IMAGE_HEIGHT = 0\n",
    "\n",
    "file = \"logo_hd.atlas\"\n",
    "\n",
    "f = open(file)\n",
    "file = []\n",
    "\n",
    "for line in f:\n",
    "    #pasamos el archivo entero a un array de líneas, quitando los \\n\n",
    "    file.append(line.rstrip('\\n'))\n",
    "\n",
    "\n",
    "weReadingANewPNG = False\n",
    "\n",
    "i = 0\n",
    "\n",
    "while i < len(file):\n",
    "    line = file[i]\n",
    "    \n",
    "    if line.endswith(\".png\"):\n",
    "        IMAGE_HEIGHT = int(file[i + 1][6:].split(',')[1])\n",
    "        print(line)\n",
    "        i += 4\n",
    "        weReadingANewPNG = True\n",
    "        \n",
    "        f.close()\n",
    "        \n",
    "        if os.path.exists(line + \".meta\"):\n",
    "            os.remove(line + \".meta\")\n",
    "        \n",
    "        f = open(line + \".meta\", \"a\")\n",
    "    \n",
    "    elif line == \"\":\n",
    "        weReadingANewPNG = False\n",
    "    \n",
    "    elif weReadingANewPNG:\n",
    "        #print(line)\n",
    "        f.write(\"    - serializedVersion: 2\\n\")\n",
    "        f.write(\"      name: \" + file[i] + \"\\n\")\n",
    "        f.write(\"      rect:\\n\")\n",
    "        f.write(\"        serializedVersion: 2\\n\")\n",
    "        i += 2\n",
    "        \n",
    "        pos = file[i][6:].split(', ')\n",
    "        \n",
    "        i += 1\n",
    "        \n",
    "        size = file[i][8:].split(', ')\n",
    "        \n",
    "        f.write(\"        x: \" + pos[0] + \"\\n\")\n",
    "        f.write(\"        y: \" + str(IMAGE_HEIGHT - int(size[1]) - int(pos[1])) + \"\\n\")\n",
    "        \n",
    "        f.write(\"        width: \" + size[0] + \"\\n\")\n",
    "        f.write(\"        height: \" + size[1] + \"\\n\")\n",
    "        \n",
    "        i += 3\n",
    "        \n",
    "    i += 1\n",
    "        \n",
    "       \n",
    "\n",
    "f.close()\n",
    "print(\"end!\")"
   ]
  }
 ],
 "metadata": {
  "kernelspec": {
   "display_name": "Python 3",
   "language": "python",
   "name": "python3"
  },
  "language_info": {
   "codemirror_mode": {
    "name": "ipython",
    "version": 3
   },
   "file_extension": ".py",
   "mimetype": "text/x-python",
   "name": "python",
   "nbconvert_exporter": "python",
   "pygments_lexer": "ipython3",
   "version": "3.8.3"
  }
 },
 "nbformat": 4,
 "nbformat_minor": 4
}
